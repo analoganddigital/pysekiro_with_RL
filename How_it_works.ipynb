{
 "cells": [
  {
   "cell_type": "markdown",
   "metadata": {},
   "source": [
    "# 项目结构\n",
    "- The_battle_memory\n",
    "    - Genichiro_Ashina (内含1场演示用数据集和101场训练用的完整数据集，由于文件过大所以只上传演示用数据集)\n",
    "        - training_data-1.npy (演示用数据集)\n",
    "        - training_data-2.npy\n",
    "        - ... (2 ~ 102 都是训练用的完整数据集)\n",
    "        - training_data-102.npy\n",
    "\n",
    "- pysekiro\n",
    "    - \\__init__.py\n",
    "\n",
    "    - keys.py (键盘按键的信息)\n",
    "    - get_keys.py (捕获键盘的按键)\n",
    "    - direct_keys.py (控制键盘的按键)\n",
    "    - actions.py (动作控制)\n",
    "\n",
    "    - grab_screen.py (屏幕图像抓取)\n",
    "    - get_vertices.py (顶点位置获取)\n",
    "    - get_status.py (状态获取)\n",
    "\n",
    "    - collect_data.py (收集数据)\n",
    "\n",
    "    - adjustment.py (游戏窗口校准)\n",
    "\n",
    "    - model.py （模型定义）\n",
    "    - train_with_dl.py （用深度学习训练）\n",
    "    - Agent.py (DQN)"
   ]
  },
  {
   "cell_type": "markdown",
   "metadata": {},
   "source": [
    "# 数据预览"
   ]
  },
  {
   "cell_type": "markdown",
   "metadata": {},
   "source": [
    "- The_battle_memory\n",
    "    - Genichiro_Ashina\n",
    "        - training_data-1.npy (演示用数据集)"
   ]
  },
  {
   "cell_type": "code",
   "execution_count": null,
   "metadata": {},
   "outputs": [],
   "source": [
    "import os\n",
    "\n",
    "import cv2\n",
    "import numpy as np\n",
    "\n",
    "boss = 'Genichiro_Ashina' # 苇名弦一郎\n",
    "path = os.path.join('The_battle_memory', boss, f'training_data-{1}.npy')\n",
    "data = np.load(path, allow_pickle=True)\n",
    "print(data.shape)    # 表示当前演示的数据集由200个数据组成，其中每个数据又由图像与按键记录一一对应的数据组成"
   ]
  },
  {
   "cell_type": "markdown",
   "metadata": {},
   "source": [
    "## 单个数据的展示"
   ]
  },
  {
   "cell_type": "code",
   "execution_count": null,
   "metadata": {},
   "outputs": [],
   "source": [
    "screen = data[0][0]    # 选取了第一个数据的图像部分\n",
    "print('图像', screen, screen.shape, screen.dtype)"
   ]
  },
  {
   "cell_type": "code",
   "execution_count": null,
   "metadata": {},
   "outputs": [],
   "source": [
    "action_value = data[0][1]    # 选取了第一个数据的按键记录部分\n",
    "print('按键记录', action_value)"
   ]
  },
  {
   "cell_type": "markdown",
   "metadata": {},
   "source": [
    "## 以视频的形式展示数据"
   ]
  },
  {
   "cell_type": "code",
   "execution_count": null,
   "metadata": {},
   "outputs": [],
   "source": [
    "Remaining = len(data)\n",
    "for screen, action_value in data:\n",
    "    if   action_value == [1,0,0,0,0]:\n",
    "        action = '攻击'\n",
    "    elif action_value == [0,1,0,0,0]:\n",
    "        action = '弹反'\n",
    "    elif action_value == [0,0,1,0,0]:\n",
    "        action = '垫步'\n",
    "    elif action_value == [0,0,0,1,0]:\n",
    "        action = '跳跃'\n",
    "    elif action_value == [0,0,0,0,1]:\n",
    "        action = '其他'\n",
    "\n",
    "    cv2.imshow('screen', screen)\n",
    "    cv2.waitKey(10)\n",
    "    \n",
    "    Remaining -= 1\n",
    "    print(f'\\r 剩余: {Remaining:>4}, 动作:{action:<11}', end='')\n",
    "    if cv2.waitKey(1) & 0xFF == ord('q'):    # 按 q 键关闭视频\n",
    "        cv2.destroyAllWindows()\n",
    "        break\n",
    "else:\n",
    "    cv2.destroyAllWindows()"
   ]
  },
  {
   "cell_type": "markdown",
   "metadata": {},
   "source": [
    "# pysekiro 模块解析"
   ]
  },
  {
   "cell_type": "markdown",
   "metadata": {},
   "source": [
    "## 按键部分\n",
    "- keys.py (键盘按键的信息)\n",
    "- get_keys.py (捕获键盘的按键)\n",
    "- direct_keys.py (控制键盘的按键)\n",
    "- actions.py (动作控制)"
   ]
  },
  {
   "cell_type": "markdown",
   "metadata": {},
   "source": [
    "### keys.py"
   ]
  },
  {
   "cell_type": "markdown",
   "metadata": {},
   "source": [
    "[查看代码](https://github.com/ricagj/pysekiro_with_RL/blob/main/pysekiro/keys.py)"
   ]
  },
  {
   "cell_type": "markdown",
   "metadata": {},
   "source": [
    "**注：这部分不是由我编写的，所以我只从应用的角度说明**"
   ]
  },
  {
   "cell_type": "markdown",
   "metadata": {},
   "source": [
    "这个文件不是用来直接使用，而是给我们查找相应的键对应的值的。  \n",
    "其中，检测按键的是 virtual keys，输出按键的是 direct keys，相应代码在第 146 ~ 254 和 35 ~ 143 行。\n",
    "使用如下"
   ]
  },
  {
   "cell_type": "markdown",
   "metadata": {},
   "source": [
    "### get_keys.py"
   ]
  },
  {
   "cell_type": "markdown",
   "metadata": {},
   "source": [
    "[查看代码](https://github.com/ricagj/pysekiro_with_RL/blob/main/pysekiro/get_keys.py)"
   ]
  },
  {
   "cell_type": "markdown",
   "metadata": {},
   "source": [
    "**注：这部分不是由我编写的，所以我只从应用的角度说明**"
   ]
  },
  {
   "cell_type": "markdown",
   "metadata": {},
   "source": [
    "检测按键的部分，用的是 virtual keys 。"
   ]
  },
  {
   "cell_type": "markdown",
   "metadata": {},
   "source": [
    "其中的字典 vk 是从 keys.py 中截取的部分键值对，然后，调用 key_check() 时就会检测当前正在按的键"
   ]
  },
  {
   "cell_type": "markdown",
   "metadata": {},
   "source": [
    "里面的按键我已经定义好了，如果你想定义更多的按键，可以在 **keys.py** 中第 146 ~ 254行找到相应的按键然后添加进去"
   ]
  },
  {
   "cell_type": "markdown",
   "metadata": {},
   "source": [
    "运行以下代码体验一下，按 P 停止"
   ]
  },
  {
   "cell_type": "code",
   "execution_count": null,
   "metadata": {},
   "outputs": [],
   "source": [
    "from pysekiro.get_keys import key_check\n",
    "while True:\n",
    "    keys = key_check()\n",
    "    print(f'\\r{str(keys):<60}', end = '')\n",
    "    if 'P' in keys:\n",
    "        break"
   ]
  },
  {
   "cell_type": "markdown",
   "metadata": {},
   "source": [
    "### direct_keys.py"
   ]
  },
  {
   "cell_type": "markdown",
   "metadata": {},
   "source": [
    "[查看代码](https://github.com/ricagj/pysekiro_with_RL/blob/main/pysekiro/direct_keys.py)"
   ]
  },
  {
   "cell_type": "markdown",
   "metadata": {},
   "source": [
    "**注：这部分不是由我编写的，所以我只从应用的角度说明**"
   ]
  },
  {
   "cell_type": "markdown",
   "metadata": {},
   "source": [
    "PressKey 压键  \n",
    "ReleaseKey 松键  "
   ]
  },
  {
   "cell_type": "markdown",
   "metadata": {},
   "source": [
    "具体用法看 actions.py"
   ]
  },
  {
   "cell_type": "markdown",
   "metadata": {},
   "source": [
    "### actions.py"
   ]
  },
  {
   "cell_type": "markdown",
   "metadata": {},
   "source": [
    "[查看代码](https://github.com/ricagj/pysekiro_with_RL/blob/main/pysekiro/actions.py)"
   ]
  },
  {
   "cell_type": "markdown",
   "metadata": {},
   "source": [
    "输出按键的部分，用的是 direct keys "
   ]
  },
  {
   "cell_type": "markdown",
   "metadata": {},
   "source": [
    "#### 定义执行相应动作和函数"
   ]
  },
  {
   "cell_type": "markdown",
   "metadata": {},
   "source": [
    "和 get_keys.py 不同的是，这里不用字典处理，而是采用直接赋值的方式。  \n",
    "因为从 direct_keys.py 导入的 PressKey() 和 ReleaseKey() 参数都是 hexKeyCode ，直接输入相应的 十六进制 映射到按键就好了。  \n",
    "赋值给相应的变量只是为了好认而已。"
   ]
  },
  {
   "cell_type": "code",
   "execution_count": null,
   "metadata": {},
   "outputs": [],
   "source": [
    "# e.g.\n",
    "from pysekiro.direct_keys import PressKey, ReleaseKey\n",
    "import time\n",
    "\n",
    "W = 0x11\n",
    "def Move_Forward():\n",
    "    print('移动 前')\n",
    "    PressKey(W)      # 按键\n",
    "    time.sleep(1)    # 按键时长（控制长按短按）\n",
    "    ReleaseKey(W)    # 松键\n",
    "\n",
    "for _ in range(5):\n",
    "    Move_Forward()"
   ]
  },
  {
   "cell_type": "markdown",
   "metadata": {},
   "source": [
    "调用其中的某个函数时，游戏就会接收到程序发送过来的按键信号，然后驱动你控制的人物做出相应的动作"
   ]
  },
  {
   "cell_type": "markdown",
   "metadata": {},
   "source": [
    "#### act(values)"
   ]
  },
  {
   "cell_type": "markdown",
   "metadata": {},
   "source": [
    "接受到动作所对应的值（比如说这里 0 代表 攻击），然后把其对应的动作的函数名传递给局部变量 act ，再用多线程执行动作。  \n",
    "如果你想要让它能有更多的动作选择，可以定义好相应的动作的函数（定义如上），然后再用 elif 补充，不过，这可以需要你数据的支持和模型的支持。  \n",
    "就是说如果你在数据收集时只收集了5类动作，模型训练的时候也是，动作空间数量为5，那么你定义的6个及6个以上的动作时将会有一部分动作是无效的。  \n",
    "~~~python\n",
    "# 根据 collect_data.py\n",
    "def act(values):\n",
    "    \n",
    "    if   values == 0:\n",
    "        act = Attack     # 攻击\n",
    "    elif values == 1:\n",
    "        act = Deflect    # 弹反\n",
    "    elif values == 2:\n",
    "        act = Step_Dodge # 垫步\n",
    "    elif values == 3:\n",
    "        act = Jump       # 跳跃\n",
    "    elif values == 4:\n",
    "        act = Move_Forward # 其他\n",
    "\n",
    "    act_process = threading.Thread(target=act)\n",
    "    act_process.start()\n",
    "~~~"
   ]
  },
  {
   "cell_type": "markdown",
   "metadata": {},
   "source": [
    "## 图像部分\n",
    "- grab_screen.py (屏幕图像抓取)\n",
    "- get_vertices.py (顶点位置获取)\n",
    "- get_status.py (状态获取)"
   ]
  },
  {
   "cell_type": "markdown",
   "metadata": {},
   "source": [
    "### grab_screen.py"
   ]
  },
  {
   "cell_type": "markdown",
   "metadata": {},
   "source": [
    "[查看代码](https://github.com/ricagj/pysekiro_with_RL/blob/main/pysekiro/grab_screen.py)"
   ]
  },
  {
   "cell_type": "markdown",
   "metadata": {},
   "source": [
    "**注：这部分中主题部分不是由我编写的，所以我只从我编写的部分说明**  "
   ]
  },
  {
   "cell_type": "markdown",
   "metadata": {},
   "source": [
    "#### 主体部分 grab_screen(region=None)"
   ]
  },
  {
   "cell_type": "markdown",
   "metadata": {},
   "source": [
    "这部分某个大佬写的，这个函数获取指定区域的图像然后返回原图，其中，我的修改是，把返回值改成了灰度图"
   ]
  },
  {
   "cell_type": "markdown",
   "metadata": {},
   "source": [
    "#### 我处理的部分 get_screen()"
   ]
  },
  {
   "cell_type": "markdown",
   "metadata": {},
   "source": [
    "我指定了游戏窗口的位置，指定了图像缩放的大小"
   ]
  },
  {
   "cell_type": "code",
   "execution_count": null,
   "metadata": {},
   "outputs": [],
   "source": [
    "import cv2\n",
    "from pysekiro.grab_screen import get_screen\n",
    "\n",
    "screen = get_screen()\n",
    "cv2.imshow('screen', screen)\n",
    "cv2.waitKey(0)\n",
    "\n",
    "print('图像', screen, screen.shape, screen.dtype)"
   ]
  },
  {
   "cell_type": "markdown",
   "metadata": {},
   "source": [
    "实际上，数据集中单个数据里的图像部分就是由这个函数获取的。"
   ]
  },
  {
   "cell_type": "markdown",
   "metadata": {},
   "source": [
    "### get_vertices.py"
   ]
  },
  {
   "cell_type": "markdown",
   "metadata": {},
   "source": [
    "[查看代码](https://github.com/ricagj/pysekiro_with_RL/blob/main/pysekiro/get_vertices.py)"
   ]
  },
  {
   "cell_type": "markdown",
   "metadata": {},
   "source": [
    "其实就是我无法写出一个自动把血条、架势条抠出来的程序，所以才写的这个半自动的程序。  \n",
    "这个程序的主要作用就是，在图像上点击然后自动返回相关的位置信息。  \n",
    "可以看一下演示的gif  \n",
    "![demo.gif](https://github.com/ricagj/pysekiro_with_RL/blob/main/imgs/demo.gif)"
   ]
  },
  {
   "cell_type": "markdown",
   "metadata": {},
   "source": [
    "如图所示，在弹出来的窗口中用鼠标左键按顺序依次点击左下，左上，右上，右下，然后按键盘上的“ESC”键，就会自动返回 x, x_w, y, y_h, vertices  \n",
    "**图像的原点在左上角**\n",
    "- x 代表 x轴的起始位置，也是图像的最左边\n",
    "- y 代表 y轴的起始位置，也是图像的最上边\n",
    "- x_w 代表 x轴的终止位置，也是图像的最右边\n",
    "- y_h 代表 y轴的终止位置，也是图像的最下边\n",
    "- vertices = [[x, y_h], [x, y], [x_w, y], [x_w, y_h]] (依次代表图像的左下角、左上角、右上角和右下角的位置。)"
   ]
  },
  {
   "cell_type": "markdown",
   "metadata": {},
   "source": [
    "#### 函数解释"
   ]
  },
  {
   "cell_type": "markdown",
   "metadata": {},
   "source": [
    "##### on_EVENT_LBUTTONDOWN(event, x, y, flags, param)"
   ]
  },
  {
   "cell_type": "markdown",
   "metadata": {},
   "source": [
    "vertices 正是由下面这些代码获取的\n",
    "~~~python\n",
    "cv2.setMouseCallback(\"window\", on_EVENT_LBUTTONDOWN)\n",
    "while True:\n",
    "    cv2.imshow(\"window\", img)\n",
    "    if cv2.waitKey(0)&0xFF==27:\n",
    "        break\n",
    "~~~\n",
    "具体用法看下面"
   ]
  },
  {
   "cell_type": "markdown",
   "metadata": {},
   "source": [
    "##### GrabCut_ROI(img, vertices)"
   ]
  },
  {
   "cell_type": "markdown",
   "metadata": {},
   "source": [
    "其实就是展示抠图的效果的，看上面的 demo 就知道了，区域内保留，区域外全黑（像素点的值等于0）。"
   ]
  },
  {
   "cell_type": "markdown",
   "metadata": {},
   "source": [
    "##### standardize(vertices)"
   ]
  },
  {
   "cell_type": "markdown",
   "metadata": {},
   "source": [
    "鼠标点击出来的位置只是大概的，再怎么精细也只是类似矩形，而不是矩形，所以靠这个函数处理成最标准的矩形。  \n",
    "处理标准：尽量取最大范围"
   ]
  },
  {
   "cell_type": "markdown",
   "metadata": {},
   "source": [
    "##### roi(img, x, x_w, y, y_h)"
   ]
  },
  {
   "cell_type": "markdown",
   "metadata": {},
   "source": [
    "只保留区域内，区域外的全部不要"
   ]
  },
  {
   "cell_type": "markdown",
   "metadata": {},
   "source": [
    "##### get_vertices(img)"
   ]
  },
  {
   "cell_type": "markdown",
   "metadata": {},
   "source": [
    "直接上代码解释"
   ]
  },
  {
   "cell_type": "markdown",
   "metadata": {},
   "source": [
    "~~~python\n",
    "def get_vertices(img):\n",
    "    \n",
    "    global vertices\n",
    "    vertices = []\n",
    "\n",
    "    print('Press \"ESC\" to quit. ') # 按ESC键离开。\n",
    "    cv2.namedWindow(\"window\", cv2.WINDOW_NORMAL)    # 使窗口可以调整，比如图片太小，就调整窗口\n",
    "    cv2.setMouseCallback(\"window\", on_EVENT_LBUTTONDOWN)\n",
    "    while True:\n",
    "        cv2.imshow(\"window\", img)\n",
    "        if cv2.waitKey(0)&0xFF==27:\n",
    "            break\n",
    "    cv2.destroyAllWindows()\n",
    "\n",
    "    if len(vertices) != 4:    # 矩形只有4个顶点\n",
    "        print(\"vertices number not match\")\n",
    "        return -1\n",
    "\n",
    "    x, x_w, y, y_h, vertices = standardize(vertices)    # 矩形化\n",
    "\n",
    "    cv2.imshow('img', img)\n",
    "    cv2.imshow('GrabCut_ROI(img)', GrabCut_ROI(img, [np.array(vertices)]))    # GrabCut_ROI 效果\n",
    "    cv2.imshow('roi(img)', roi(img, x, x_w, y, y_h))    # roi 效果\n",
    "\n",
    "    cv2.waitKey(0)\n",
    "    cv2.destroyAllWindows()\n",
    "\n",
    "    print(f'\\n x={x}, x_w={x_w}, y={y}, y_h={y_h}, vertices={vertices} \\n')\n",
    "~~~"
   ]
  },
  {
   "cell_type": "markdown",
   "metadata": {},
   "source": [
    "#### 演示"
   ]
  },
  {
   "cell_type": "code",
   "execution_count": null,
   "metadata": {},
   "outputs": [],
   "source": [
    "import cv2\n",
    "from pysekiro.get_vertices import get_vertices\n",
    "\n",
    "img = cv2.imread(\".\\imgs\\demo.png\", 0)\n",
    "get_vertices(img)"
   ]
  },
  {
   "cell_type": "markdown",
   "metadata": {},
   "source": [
    "其实最后需要用的只有 x, x_w, y, y_h"
   ]
  },
  {
   "cell_type": "markdown",
   "metadata": {},
   "source": [
    "### get_status.py"
   ]
  },
  {
   "cell_type": "markdown",
   "metadata": {},
   "source": [
    "[查看代码](https://github.com/ricagj/pysekiro_with_RL/blob/main/pysekiro/get_status.py)"
   ]
  },
  {
   "cell_type": "markdown",
   "metadata": {},
   "source": [
    "#### 演示"
   ]
  },
  {
   "cell_type": "code",
   "execution_count": null,
   "metadata": {},
   "outputs": [],
   "source": [
    "import os\n",
    "import cv2\n",
    "import numpy as np\n",
    "from pysekiro.get_status import get_status\n",
    "\n",
    "target = 'Genichiro_Ashina' # 苇名弦一郎\n",
    "path = os.path.join('The_battle_memory', target, f'training_data-{1}.npy')\n",
    "data = np.load(path, allow_pickle=True)\n",
    "\n",
    "Remaining = len(data)\n",
    "\n",
    "for screen in data[:,0]:\n",
    "\n",
    "    cv2.imshow('screen', screen)\n",
    "\n",
    "    Self_HP, Self_Posture, Target_HP, Target_Posture = get_status(screen)\n",
    "\n",
    "    Remaining -= 1\n",
    "    print(f'\\r Remaining: {Remaining:<6}, Self HP: {Self_HP:>3}, Self Posture: {Self_Posture:>3}, Target HP: {Target_HP:>3}, Target Posture: {Target_Posture:>3}', end='')\n",
    "    cv2.waitKey(10)\n",
    "    if cv2.waitKey(1) & 0xFF == ord('q'):    # 按 q 键关闭视频\n",
    "        cv2.destroyAllWindows()\n",
    "        break\n",
    "else:\n",
    "    cv2.destroyAllWindows()"
   ]
  },
  {
   "cell_type": "markdown",
   "metadata": {},
   "source": [
    "#### get_status()"
   ]
  },
  {
   "cell_type": "markdown",
   "metadata": {},
   "source": [
    "~~~python\n",
    "Self_HP, Self_Posture, Target_HP, Target_Posture = get_status(screen)\n",
    "~~~"
   ]
  },
  {
   "cell_type": "markdown",
   "metadata": {},
   "source": [
    "~~~python\n",
    "def get_status(img):\n",
    "    return [get_Sekiro_HP(img), get_Sekiro_Posture(img), get_Target_HP(img), get_Target_Posture(img)]\n",
    "~~~"
   ]
  },
  {
   "cell_type": "markdown",
   "metadata": {},
   "source": [
    "##### 其中四个函数的原型"
   ]
  },
  {
   "cell_type": "markdown",
   "metadata": {},
   "source": [
    "~~~python\n",
    "def get_Self_HP(img):\n",
    "    img_roi = roi(img, x=29, x_w=182, y=246, y_h=246+1)[0]\n",
    "    retval, img_th = cv2.threshold(img_roi, 60, 255, cv2.THRESH_TOZERO)    # 低于60的像素点的值设置为0\n",
    "    retval, img_th = cv2.threshold(img_th, 80, 255, cv2.cv2.THRESH_TOZERO_INV)    # 高于80的像素点的值设置为0\n",
    "    img_th = np.reshape(img_th, (img_roi.shape))\n",
    "    Self_HP = get_value(img_th)    # 获取数值\n",
    "    return Self_HP\n",
    "~~~"
   ]
  },
  {
   "cell_type": "markdown",
   "metadata": {},
   "source": [
    "~~~python\n",
    "def get_Target_HP(img):\n",
    "    img_roi = roi(img, x=29, x_w=130, y=25, y_h=25+1)[0]\n",
    "    retval, img_th = cv2.threshold(img_roi, 40, 255, cv2.THRESH_TOZERO)    # 低于40的像素点的值设置为0\n",
    "    retval, img_th = cv2.threshold(img_th, 80, 255, cv2.cv2.THRESH_TOZERO_INV)    # 高于80的像素点的值设置为0\n",
    "    img_th = np.reshape(img_th, (img_roi.shape))\n",
    "    Target_HP = get_value(img_th)    # 获取数值\n",
    "    return Target_HP\n",
    "~~~"
   ]
  },
  {
   "cell_type": "markdown",
   "metadata": {},
   "source": [
    "架势条不像生命条一样一直显示着，架势为0时消失，架势不为0时才出现，如果不设置开启条件，那很容易得到错误的架势信息"
   ]
  },
  {
   "cell_type": "markdown",
   "metadata": {},
   "source": [
    "~~~python\n",
    "def get_Self_Posture(img):\n",
    "    img_roi = roi(img, x=240, x_w=290, y=234, y_h=234+1)[0]\n",
    "    retval, img_th = cv2.threshold(img_roi, 100, 255, cv2.THRESH_TOZERO)    # 低于100的像素点的值设置为0\n",
    "    img_th = np.reshape(img_th, (img_roi.shape))\n",
    "    \n",
    "    if int(img_th[0]) - int(img_th[1]) > 15:    # 开启条件\n",
    "        if img_th[1] in range(100, 125) and img_th[0] in range(145, 165):\n",
    "            Self_Posture = get_value(img_th)\n",
    "        elif img_th[1] in range(135, 160) and img_th[0] in range(180, 220):\n",
    "            Self_Posture = get_value(img_th)\n",
    "        elif img_th[1] in range(160, 230) and img_th[0] in range(200, 250):\n",
    "            Self_Posture = get_value(img_th)\n",
    "        else:\n",
    "            Self_Posture = 0\n",
    "    else:\n",
    "        Self_Posture = 0\n",
    "    return Self_Posture\n",
    "~~~"
   ]
  },
  {
   "cell_type": "markdown",
   "metadata": {},
   "source": [
    "~~~python\n",
    "def get_Target_Posture(img):\n",
    "    img_roi = roi(img, x=240, x_w=327, y=17, y_h=17+1)[0]\n",
    "    retval, img_th = cv2.threshold(img_roi, 100, 255, cv2.THRESH_TOZERO)    # 低于100的像素点的值设置为0\n",
    "    img_th = np.reshape(img_th, (img_roi.shape))\n",
    "    \n",
    "    if int(img_th[0]) - int(img_th[1]) > 15:    # 开启条件\n",
    "        if img_th[1] in range(100, 125) and img_th[0] in range(175, 222):\n",
    "            Target_Posture = get_value(img_th)\n",
    "        elif img_th[1] in range(125, 210) and img_th[0] in range(190, 250):\n",
    "            Target_Posture = get_value(img_th)\n",
    "        else:\n",
    "            Target_Posture = 0\n",
    "    else:\n",
    "        Target_Posture = 0\n",
    "    return Target_Posture\n",
    "~~~"
   ]
  },
  {
   "cell_type": "markdown",
   "metadata": {},
   "source": [
    "##### 获取数值的部分"
   ]
  },
  {
   "cell_type": "markdown",
   "metadata": {},
   "source": [
    "范围外的已经处理成0了，所以计算第一个出现的0的左边有多少个非0值，得到的结果就是我们需要的那个状态值"
   ]
  },
  {
   "cell_type": "markdown",
   "metadata": {},
   "source": [
    "~~~python\n",
    "def get_value(target_img):\n",
    "    count = 0\n",
    "    for i in range(len(target_img)-1):\n",
    "        cur_pixel = int(target_img[i])\n",
    "        if cur_pixel == 0:\n",
    "            break\n",
    "        count += 1\n",
    "    return count\n",
    "~~~"
   ]
  },
  {
   "cell_type": "markdown",
   "metadata": {},
   "source": [
    "##### 演示"
   ]
  },
  {
   "cell_type": "markdown",
   "metadata": {},
   "source": [
    "接下来看下面的代码运行的结果"
   ]
  },
  {
   "cell_type": "code",
   "execution_count": null,
   "metadata": {},
   "outputs": [],
   "source": [
    "import os\n",
    "import cv2\n",
    "import numpy as np\n",
    "from pysekiro.get_vertices import roi\n",
    "\n",
    "def get_value(target_img):\n",
    "    count = 0\n",
    "    for i in range(len(target_img)-1):\n",
    "        cur_pixel = int(target_img[i])\n",
    "        if cur_pixel == 0:\n",
    "            break\n",
    "        count += 1\n",
    "    return count\n",
    "\n",
    "def get_Target_HP(img):\n",
    "    img_roi = roi(img, x=29, x_w=130, y=25, y_h=25+1)[0]\n",
    "    retval, img_th = cv2.threshold(img_roi, 40, 255, cv2.THRESH_TOZERO)\n",
    "    retval, img_th = cv2.threshold(img_th, 80, 255, cv2.cv2.THRESH_TOZERO_INV)\n",
    "    img_th = np.reshape(img_th, (img_roi.shape))\n",
    "    Target_HP = get_value(img_th)\n",
    "    print('\\n', img_th)\n",
    "    return Target_HP\n",
    "\n",
    "boss = 'Genichiro_Ashina' # 苇名弦一郎\n",
    "path = os.path.join('The_battle_memory', boss, f'training_data-{1}.npy')\n",
    "data = np.load(path, allow_pickle=True)\n",
    "\n",
    "for screen in data[[89, 91, 199],0]:\n",
    "\n",
    "    Target_HP = get_Target_HP(screen)\n",
    "\n",
    "    print(f'Target_HP: {Target_HP:>4}')"
   ]
  },
  {
   "cell_type": "markdown",
   "metadata": {},
   "source": [
    "## collect_data.py"
   ]
  },
  {
   "cell_type": "markdown",
   "metadata": {},
   "source": [
    "[查看代码](https://github.com/ricagj/pysekiro_with_RL/blob/main/pysekiro/collect_data.py)"
   ]
  },
  {
   "cell_type": "markdown",
   "metadata": {},
   "source": [
    "搜集数据顺带评分"
   ]
  },
  {
   "cell_type": "markdown",
   "metadata": {},
   "source": [
    "### get_output()"
   ]
  },
  {
   "cell_type": "markdown",
   "metadata": {},
   "source": [
    "对按键信息进行独热编码  \n",
    "注意，这部分的定义非常重要，后面的很多设置都与它相适应"
   ]
  },
  {
   "cell_type": "markdown",
   "metadata": {},
   "source": [
    "### class Data_collection"
   ]
  },
  {
   "cell_type": "markdown",
   "metadata": {},
   "source": [
    "#### save_data"
   ]
  },
  {
   "cell_type": "markdown",
   "metadata": {},
   "source": [
    "保存数据，统一名称为 f'training_data-{n}.npy'，例如 training_data-123.npy  \n",
    "从1开始检测文件名是否存在于保存路径，直到检测到不存在就保存"
   ]
  },
  {
   "cell_type": "markdown",
   "metadata": {},
   "source": [
    "#### collect_data"
   ]
  },
  {
   "cell_type": "markdown",
   "metadata": {},
   "source": [
    "核心代码\n",
    "~~~python\n",
    "screen = get_screen()    # 获取屏幕图像\n",
    "action = get_output()    # 获取按键输出\n",
    "self.dataset.append([screen, action])    # 图像和输出打包在一起，保证一一对应\n",
    "\n",
    "status = get_status(screen)\n",
    "reward = self.reward_system.get_reward(status, np.argmax(action))    # 根据当前状态和动作，计算 reward\n",
    "~~~"
   ]
  },
  {
   "cell_type": "markdown",
   "metadata": {},
   "source": [
    "## adjustment.py"
   ]
  },
  {
   "cell_type": "markdown",
   "metadata": {},
   "source": [
    "[查看代码](https://github.com/ricagj/pysekiro_with_RL/blob/main/pysekiro/adjustment.py)"
   ]
  },
  {
   "cell_type": "markdown",
   "metadata": {},
   "source": [
    "由collect_data.py改编而来，只做检测不做收集和评分"
   ]
  },
  {
   "cell_type": "markdown",
   "metadata": {},
   "source": [
    "## model.py"
   ]
  },
  {
   "cell_type": "markdown",
   "metadata": {},
   "source": [
    "我定义的是一个简化版的残差神经网络，大家可以根据自己的情况定义模型"
   ]
  },
  {
   "cell_type": "markdown",
   "metadata": {},
   "source": [
    "## train_with_dl.py"
   ]
  },
  {
   "cell_type": "markdown",
   "metadata": {},
   "source": [
    "核心代码\n",
    "~~~python\n",
    "for i in range(start, end+1):    # 读取一个数据集并学习，然后读取下一个数据集并学习，以此类推\n",
    "    filename = f'training_data-{i}.npy'\n",
    "    data_path = os.path.join('The_battle_memory', target, filename)\n",
    "    data = np.load(data_path, allow_pickle=True)\n",
    "\n",
    "    # 数据集处理成预训练格式\n",
    "    X = np.array([roi(i[0], x, x_w, y, y_h) for i in data]).reshape(-1, ROI_WIDTH, ROI_HEIGHT, FRAME_COUNT)\n",
    "    Y = np.array([i[1] for i in data])\n",
    "\n",
    "    # 训练模型，然后保存\n",
    "    model.fit(X, Y, batch_size=batch_size, epochs=epochs, verbose=1)\n",
    "    model.save_weights(model_weights)\n",
    "~~~"
   ]
  },
  {
   "cell_type": "markdown",
   "metadata": {},
   "source": [
    "## Agent.py"
   ]
  },
  {
   "cell_type": "markdown",
   "metadata": {},
   "source": [
    "### RewardSystem"
   ]
  },
  {
   "cell_type": "markdown",
   "metadata": {},
   "source": [
    "#### 计算 reward 的原理"
   ]
  },
  {
   "cell_type": "markdown",
   "metadata": {},
   "source": [
    "reward = sum((现在的状态 - 过去的状态) * 正负强化的权重)"
   ]
  },
  {
   "cell_type": "markdown",
   "metadata": {},
   "source": [
    "**注：当前设置的计算方法比较简单，所以可能会影响训练的效果，以后有空我再考虑更新更合理的计算公式**"
   ]
  },
  {
   "cell_type": "markdown",
   "metadata": {},
   "source": [
    "#### 正负强化的权重"
   ]
  },
  {
   "cell_type": "markdown",
   "metadata": {},
   "source": [
    "设置 正强化 和 负强化  \n",
    "由于计算 reward 的算法是 现在的状态减去过去的状态，所以  \n",
    "自身生命与reward呈正相关；自身架势与reward呈负相关；目标生命与reward呈负相关；目标架势与reward呈正相关"
   ]
  },
  {
   "cell_type": "markdown",
   "metadata": {},
   "source": [
    "|   类型   | 状态 | reward | 权重正负 |\n",
    "| :----: | :----: | :----: | :----: |\n",
    "| 自身生命 |  +   |   +    |    +    |\n",
    "| 自身生命 |  -   |   -    |    +    |\n",
    "| 自身架势 |  +   |   -    |    -    |\n",
    "| 自身架势 |  -   |   +    |    -    |\n",
    "| 目标生命 |  +   |   -    |    -    |\n",
    "| 目标生命 |  -   |   +    |    -    |\n",
    "| 目标架势 |  +   |   +    |    +    |\n",
    "| 目标架势 |  -   |   -    |    +    |"
   ]
  },
  {
   "cell_type": "markdown",
   "metadata": {},
   "source": [
    "e.g. 自身生命 152 -> 131  \n",
    "131 - 152 = -21 代表自身生命值减少了21 ，所以得到的 reward 应该是负数，这时候权重为正数就正合适  \n",
    "e.g. 自身生命 21  ->  97  \n",
    "97  -  21 =  76 代表自身生命值增加了76 ，所以得到的 reward 应该是正数，这时候权重为正数就正合适  \n",
    "e.g. 目标生命 100 -> 98  \n",
    "98 - 100 = -2   代表目标生命值减少了2  ，所以得到的 reward 应该是正数，这时候权重为负数就正合适  "
   ]
  },
  {
   "cell_type": "markdown",
   "metadata": {},
   "source": [
    "~~~python\n",
    "self.reward_weights = [0.1, -0.1, -0.1, 0.1]\n",
    "~~~"
   ]
  },
  {
   "cell_type": "markdown",
   "metadata": {},
   "source": [
    "### DQNReplayer"
   ]
  },
  {
   "cell_type": "markdown",
   "metadata": {},
   "source": [
    "https://github.com/ZhiqingXiao/rl-book/blob/master/chapter10_atari/BreakoutDeterministic-v4_tf.ipynb  \n",
    "从这里copy过来的，超级好用"
   ]
  },
  {
   "cell_type": "markdown",
   "metadata": {},
   "source": [
    "### Sekiro_Agent"
   ]
  },
  {
   "cell_type": "markdown",
   "metadata": {},
   "source": [
    "~~~python\n",
    "self.n_action = n_action    # 动作数量\n",
    "\n",
    "self.gamma = gamma    # 奖励衰减 默认 0.99\n",
    "\n",
    "self.batch_size = batch_size                    # 样本抽取数量 默认 8\n",
    "self.replay_memory_size = replay_memory_size    # 记忆容量 默认 50000\n",
    "\n",
    "self.epsilon = epsilon                                # 探索参数 默认 1.0\n",
    "self.epsilon_decrease_rate = epsilon_decrease_rate    # 探索衰减率 默认 0.999\n",
    "\n",
    "self.model_weights = model_weights    # 指定读取的模型参数的路径 默认 None\n",
    "\n",
    "self.evaluate_net = self.build_network()    # 评估网络\n",
    "self.target_net = self.build_network()      # 目标网络\n",
    "self.reward_system = RewardSystem()                # 奖惩系统\n",
    "self.replayer = DQNReplayer(self.replay_memory_size)    # 经验回放\n",
    "~~~"
   ]
  },
  {
   "cell_type": "markdown",
   "metadata": {},
   "source": [
    "#### 评估网络和目标网络的构建方法\n",
    "~~~python\n",
    "def build_network(self):\n",
    "    model = resnet(ROI_WIDTH, ROI_HEIGHT, FRAME_COUNT,\n",
    "        outputs = self.n_action\n",
    "    )\n",
    "    if self.model_weights:\n",
    "        if os.path.exists(self.model_weights):\n",
    "            model.load_weights(self.model_weights)\n",
    "            print('Load ' + self.model_weights)\n",
    "        else:\n",
    "            print('Nothing to load')\n",
    "\n",
    "    return model\n",
    "~~~"
   ]
  },
  {
   "cell_type": "markdown",
   "metadata": {},
   "source": [
    "#### 行为选择方法\n",
    "~~~python\n",
    "def choose_action(self, screen, train=False):\n",
    "    r = 1\n",
    "    if train:\n",
    "        r = np.random.rand()\n",
    "\n",
    "    if r < self.epsilon:\n",
    "        q_values = np.random.randint(self.n_action)\n",
    "        self.epsilon *= self.epsilon_decrease_rate\n",
    "    else:\n",
    "        screen = roi(screen, x, x_w, y, y_h)\n",
    "        q_values = self.evaluate_net.predict([screen.reshape(-1, ROI_WIDTH, ROI_HEIGHT, FRAME_COUNT)])[0]\n",
    "        q_values = np.argmax(q_values)\n",
    "\n",
    "    act(q_values)\n",
    "    return q_values\n",
    "~~~"
   ]
  },
  {
   "cell_type": "markdown",
   "metadata": {},
   "source": [
    "#### 学习\n",
    "~~~python\n",
    "def learn(self):\n",
    "\n",
    "    # 经验回放\n",
    "    screens, actions, rewards, next_screens = self.replayer.sample(self.batch_size)\n",
    "\n",
    "    screens = screens.reshape(-1, ROI_WIDTH, ROI_HEIGHT, FRAME_COUNT)\n",
    "    next_screens = next_screens.reshape(-1, ROI_WIDTH, ROI_HEIGHT, FRAME_COUNT)\n",
    "\n",
    "    next_qs = self.target_net.predict(next_screens)\n",
    "    next_max_qs = next_qs.max(axis=-1)\n",
    "    targets = self.evaluate_net.predict(screens)\n",
    "    targets[range(self.batch_size), actions] = rewards + self.gamma * next_max_qs\n",
    "\n",
    "    self.evaluate_net.fit(screens, targets, verbose=0)\n",
    "~~~"
   ]
  },
  {
   "cell_type": "markdown",
   "metadata": {},
   "source": [
    "#### 更新目标网络权重方法\n",
    "~~~python\n",
    "def update_target_network(self, load_path=TMP_WEIGHTS):\n",
    "    self.target_net.load_weights(load_path)\n",
    "~~~"
   ]
  },
  {
   "cell_type": "markdown",
   "metadata": {},
   "source": [
    "#### 保存评估网络权重方法\n",
    "~~~python\n",
    "def save_evaluate_network(self, save_path=TMP_WEIGHTS):\n",
    "    try:\n",
    "        self.evaluate_net.save_weights(save_path)\n",
    "    except:\n",
    "        print('save weights faild!!!')\n",
    "~~~"
   ]
  }
 ],
 "metadata": {
  "kernelspec": {
   "display_name": "Python 3",
   "language": "python",
   "name": "python3"
  },
  "language_info": {
   "codemirror_mode": {
    "name": "ipython",
    "version": 3
   },
   "file_extension": ".py",
   "mimetype": "text/x-python",
   "name": "python",
   "nbconvert_exporter": "python",
   "pygments_lexer": "ipython3",
   "version": "3.8.5"
  },
  "toc-autonumbering": true
 },
 "nbformat": 4,
 "nbformat_minor": 4
}
