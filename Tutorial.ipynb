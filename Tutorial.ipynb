{
 "cells": [
  {
   "cell_type": "markdown",
   "metadata": {},
   "source": [
    "# 游戏设置"
   ]
  },
  {
   "cell_type": "markdown",
   "metadata": {},
   "source": [
    "- 打开游戏 《只狼：影逝二度》\n",
    "    - 设定\n",
    "        - 显示和声音\n",
    "            - 亮度调整\n",
    "                - 设置 5\n",
    "        - 按键设置\n",
    "            - 移动\n",
    "                - 移动 前\n",
    "                    - 设置 W\n",
    "                - 移动 后\n",
    "                    - 设置 S\n",
    "                - 移动 左\n",
    "                    - 设置 A\n",
    "                - 移动 右\n",
    "                    - 设置 D\n",
    "                - 垫步、（长按）冲刺\n",
    "                    - 设置 .Shift\n",
    "                - 跳跃\n",
    "                    - 设置 Space\n",
    "            - 视角操作\n",
    "                - 重置视角/固定目标\n",
    "                    - 设置 Y\n",
    "            - 攻击动作\n",
    "                - 攻击\n",
    "                    - 设置 J\n",
    "                - 防御\n",
    "                    - 设置 K\n",
    "        - 图像设定\n",
    "            - 屏幕模式\n",
    "                - 窗口\n",
    "            - 屏幕分辨率\n",
    "                - 1280 x 720\n",
    "            - 自动绘图调整\n",
    "                - OFF\n",
    "            - 质量设定\n",
    "                - 低"
   ]
  },
  {
   "cell_type": "markdown",
   "metadata": {},
   "source": [
    "## 校准游戏窗口位置"
   ]
  },
  {
   "cell_type": "markdown",
   "metadata": {},
   "source": [
    "- 将游戏窗口放在左上方  \n",
    "![example_01](./imgs/example_01.png) "
   ]
  },
  {
   "cell_type": "markdown",
   "metadata": {},
   "source": [
    "运行以下代码，然后根据弹出来的窗口调整游戏窗口的位置"
   ]
  },
  {
   "cell_type": "code",
   "execution_count": null,
   "metadata": {},
   "outputs": [],
   "source": [
    "from pysekiro.adjustment import main\n",
    "\n",
    "main()"
   ]
  },
  {
   "cell_type": "markdown",
   "metadata": {},
   "source": [
    "![adjustment](./imgs/adjustment.jpg) "
   ]
  },
  {
   "cell_type": "markdown",
   "metadata": {},
   "source": [
    "# 开始"
   ]
  },
  {
   "cell_type": "markdown",
   "metadata": {},
   "source": [
    "## 用深度学习从已有的数据中学习"
   ]
  },
  {
   "cell_type": "markdown",
   "metadata": {},
   "source": [
    "### 收集数据"
   ]
  },
  {
   "cell_type": "markdown",
   "metadata": {},
   "source": [
    "1. 建议使用《只狼：影逝二度》v1.06版本\n",
    "2. 建议通过鬼佛处“再战稀世强者”收集数据\n",
    "3. 建议在战斗开始时开始搜集数据，战斗结束时停止，保证每一个数据集都是一场完整的战斗。"
   ]
  },
  {
   "cell_type": "markdown",
   "metadata": {},
   "source": [
    "- 以下是收集“苇名弦一郎”战斗数据的示例。\n",
    "- 如果想收集其他Boss的战斗数据，那就把target改成对应的Boss的名字（建议使用英文）"
   ]
  },
  {
   "cell_type": "code",
   "execution_count": null,
   "metadata": {},
   "outputs": [],
   "source": [
    "from pysekiro.collect_data import Data_collection\n",
    "target = 'Genichiro_Ashina' # 苇名弦一郎\n",
    "c = Data_collection(target)\n",
    "c.collect_data()"
   ]
  },
  {
   "cell_type": "markdown",
   "metadata": {},
   "source": [
    "- 当提示 Ready! 时，第一次按 T 开始搜集数据\n",
    "- 之后按 T 切换暂停和继续的状态\n",
    "- 按 P 结束"
   ]
  },
  {
   "cell_type": "markdown",
   "metadata": {},
   "source": [
    "### 训练模型"
   ]
  },
  {
   "cell_type": "markdown",
   "metadata": {},
   "source": [
    "- 以下是用“苇名弦一郎”战斗数据来训练的示例\n",
    "    - **target** 指定训练的对象\n",
    "    - 注：必须 start < end\n",
    "        - **start** 指定第一个训练的数据集\n",
    "        - **end** 指定最后一个训练的数据集\n",
    "    - **batch_size** 训练时的批大小\n",
    "    - **epochs** 每个数据集训练的次数\n",
    "        - 如果你搜集的数据足够多，并且是按照上面的要求做到，那完全可以设置成1\n",
    "        - 因为既然每个数据都是一场完整的战斗，那么真正的epochs其实是数据集的数量，除非你每场战斗是风格都不一样\n",
    "    - **MODEL_WEIGHTS** 用以支持增量学习。默认为None。没有指定需要增量学习的模型的路径的话，就从零开始训练。\n",
    "        - 当你搜集新的数据集之后想继续训练，可以把这个参数设置为要继续训练的模型的路径，这样就可以继续训练了\n",
    "        - 当你在训练过程中发生了某种意外终止了训练，可以把这个参数设置为True，然后把发生意外时正在训练的那个数据集的序号设置为start，就可以继续训练了\n",
    "- 如果想收集其他Boss的战斗数据，那就把target改成对应的Boss的名字（建议使用英文）"
   ]
  },
  {
   "cell_type": "code",
   "execution_count": null,
   "metadata": {},
   "outputs": [],
   "source": [
    "from pysekiro.train_with_dl import train\n",
    "\n",
    "target = 'Genichiro_Ashina' # 苇名弦一郎\n",
    "train(\n",
    "    target = target,\n",
    "    start=2,\n",
    "    end=102,\n",
    "    batch_size=8,\n",
    "    epochs=1\n",
    ")"
   ]
  },
  {
   "cell_type": "markdown",
   "metadata": {},
   "source": [
    "### 测试模型"
   ]
  },
  {
   "cell_type": "code",
   "execution_count": null,
   "metadata": {},
   "outputs": [],
   "source": [
    "from learn_online import learn_online as test\n",
    "\n",
    "test()"
   ]
  },
  {
   "cell_type": "markdown",
   "metadata": {},
   "source": [
    "# 待更新"
   ]
  },
  {
   "cell_type": "raw",
   "metadata": {},
   "source": [
    "## 用强化学习从零开始在实战中学习"
   ]
  },
  {
   "cell_type": "raw",
   "metadata": {},
   "source": [
    "## 用强化学习从已有的数据中学习，再在实战中继续学习"
   ]
  }
 ],
 "metadata": {
  "kernelspec": {
   "display_name": "Python 3",
   "language": "python",
   "name": "python3"
  },
  "language_info": {
   "codemirror_mode": {
    "name": "ipython",
    "version": 3
   },
   "file_extension": ".py",
   "mimetype": "text/x-python",
   "name": "python",
   "nbconvert_exporter": "python",
   "pygments_lexer": "ipython3",
   "version": "3.8.5"
  },
  "toc-autonumbering": true,
  "toc-showtags": false
 },
 "nbformat": 4,
 "nbformat_minor": 4
}
