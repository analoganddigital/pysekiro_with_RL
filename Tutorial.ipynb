{
 "cells": [
  {
   "cell_type": "markdown",
   "metadata": {},
   "source": [
    "# 项目结构\n",
    "- The_battle_memory\n",
    "    - Genichiro_Ashina (内含1场演示用数据集和101场训练用的完整数据集，由于文件过大所以只上传演示用数据集)\n",
    "        - training_data-1.npy (演示用数据集)\n",
    "        - training_data-2.npy\n",
    "        - ... (2 ~ 102 都是训练用的完整数据集)\n",
    "        - training_data-102.npy\n",
    "\n",
    "- pysekiro\n",
    "    - \\__init__.py\n",
    "\n",
    "    - keys.py (键盘按键的信息)\n",
    "    - get_keys.py (捕获键盘的按键)\n",
    "    - direct_keys.py (控制键盘的按键)\n",
    "    - actions.py (动作控制)\n",
    "\n",
    "    - grab_screen.py (屏幕图像抓取)\n",
    "    - get_vertices.py (顶点位置获取)\n",
    "    - get_status.py (状态获取)\n",
    "\n",
    "    - collect_data.py (收集数据)\n",
    "\n",
    "    - Agent.py (DQN)"
   ]
  },
  {
   "cell_type": "markdown",
   "metadata": {},
   "source": [
    "# 数据预览"
   ]
  },
  {
   "cell_type": "markdown",
   "metadata": {},
   "source": [
    "- The_battle_memory\n",
    "    - Genichiro_Ashina\n",
    "        - training_data-1.npy (演示用数据集)"
   ]
  },
  {
   "cell_type": "code",
   "execution_count": 1,
   "metadata": {},
   "outputs": [
    {
     "name": "stdout",
     "output_type": "stream",
     "text": [
      "(200, 2)\n"
     ]
    }
   ],
   "source": [
    "import os\n",
    "\n",
    "import cv2\n",
    "import numpy as np\n",
    "\n",
    "boss = 'Genichiro_Ashina' # 苇名弦一郎\n",
    "path = os.path.join('The_battle_memory', boss, f'training_data-{1}.npy')\n",
    "data = np.load(path, allow_pickle=True)\n",
    "print(data.shape)    # 表示当前演示的数据集由200个数据组成，其中每个数据又由图像与按键记录一一对应的数据组成"
   ]
  },
  {
   "cell_type": "markdown",
   "metadata": {},
   "source": [
    "## 单个数据的展示"
   ]
  },
  {
   "cell_type": "code",
   "execution_count": 2,
   "metadata": {},
   "outputs": [
    {
     "name": "stdout",
     "output_type": "stream",
     "text": [
      "图像 [[ 93  91  91 ...  98  98 112]\n",
      " [ 62  53  56 ...  76  83  81]\n",
      " [ 72  57  55 ...  86  79  79]\n",
      " ...\n",
      " [139 160 169 ... 106 116 119]\n",
      " [118 153 159 ... 101 115 123]\n",
      " [118 144 149 ...  97  92 130]] (270, 480) uint8\n"
     ]
    }
   ],
   "source": [
    "screen = data[0][0]    # 选取了第一个数据的图像部分\n",
    "print('图像', screen, screen.shape, screen.dtype)"
   ]
  },
  {
   "cell_type": "code",
   "execution_count": 3,
   "metadata": {},
   "outputs": [
    {
     "name": "stdout",
     "output_type": "stream",
     "text": [
      "按键记录 [0, 0, 0, 0, 1]\n"
     ]
    }
   ],
   "source": [
    "action_value = data[0][1]    # 选取了第一个数据的按键记录部分\n",
    "print('按键记录', action_value)"
   ]
  },
  {
   "cell_type": "markdown",
   "metadata": {},
   "source": [
    "## 以视频的形式展示数据"
   ]
  },
  {
   "cell_type": "code",
   "execution_count": 4,
   "metadata": {},
   "outputs": [
    {
     "name": "stdout",
     "output_type": "stream",
     "text": [
      " 剩余:    0, 动作:其他         "
     ]
    }
   ],
   "source": [
    "Remaining = len(data)\n",
    "for screen, action_value in data:\n",
    "    if   action_value == [1,0,0,0,0]:\n",
    "        action = '攻击'\n",
    "    elif action_value == [0,1,0,0,0]:\n",
    "        action = '弹反'\n",
    "    elif action_value == [0,0,1,0,0]:\n",
    "        action = '垫步'\n",
    "    elif action_value == [0,0,0,1,0]:\n",
    "        action = '跳跃'\n",
    "    elif action_value == [0,0,0,0,1]:\n",
    "        action = '其他'\n",
    "\n",
    "    cv2.imshow('screen', screen)\n",
    "    cv2.waitKey(5)\n",
    "    \n",
    "    Remaining -= 1\n",
    "    print(f'\\r 剩余: {Remaining:>4}, 动作:{action:<11}', end='')\n",
    "    if cv2.waitKey(1) & 0xFF == ord('q'):    # 按 q 键关闭视频\n",
    "        cv2.destroyAllWindows()\n",
    "        break\n",
    "else:\n",
    "    cv2.destroyAllWindows()"
   ]
  },
  {
   "cell_type": "markdown",
   "metadata": {},
   "source": [
    "# pysekiro 模块解析"
   ]
  },
  {
   "cell_type": "markdown",
   "metadata": {},
   "source": [
    "## 按键部分\n",
    "- keys.py (键盘按键的信息)\n",
    "- get_keys.py (捕获键盘的按键)\n",
    "- direct_keys.py (控制键盘的按键)\n",
    "- actions.py (动作控制)"
   ]
  },
  {
   "cell_type": "markdown",
   "metadata": {},
   "source": [
    "### keys.py"
   ]
  },
  {
   "cell_type": "markdown",
   "metadata": {},
   "source": [
    "[查看代码](https://github.com/ricagj/pysekiro_with_RL/blob/main/pysekiro/keys.py)"
   ]
  },
  {
   "cell_type": "markdown",
   "metadata": {},
   "source": [
    "这个文件不是用来直接使用，而是给我们查找相应的键对应的值的。  \n",
    "其中，检测按键的是 virtual keys，输出按键的是 direct keys，相应代码在第 146 ~ 254 和 35 ~ 143 行。\n",
    "使用如下"
   ]
  },
  {
   "cell_type": "markdown",
   "metadata": {},
   "source": [
    "### get_keys.py"
   ]
  },
  {
   "cell_type": "markdown",
   "metadata": {},
   "source": [
    "[查看代码](https://github.com/ricagj/pysekiro_with_RL/blob/main/pysekiro/get_keys.py)"
   ]
  },
  {
   "cell_type": "markdown",
   "metadata": {},
   "source": [
    "检测按键的部分，用的是 virtual keys 。"
   ]
  },
  {
   "cell_type": "markdown",
   "metadata": {},
   "source": [
    "其中的字典 vk 是从 keys.py 中截取的部分键值对，然后，调用 key_check() 时就会检测当前正在按的键"
   ]
  },
  {
   "cell_type": "markdown",
   "metadata": {},
   "source": [
    "运行以下代码体验一下，按 P 停止"
   ]
  },
  {
   "cell_type": "code",
   "execution_count": null,
   "metadata": {},
   "outputs": [],
   "source": [
    "from pysekiro.get_keys import key_check\n",
    "while True:\n",
    "    keys = key_check()\n",
    "    print(f'\\r{str(keys):<60}', end = '')\n",
    "    if 'P' in keys:\n",
    "        break"
   ]
  },
  {
   "cell_type": "markdown",
   "metadata": {},
   "source": [
    "### direct_keys.py"
   ]
  },
  {
   "cell_type": "markdown",
   "metadata": {},
   "source": [
    "[查看代码](https://github.com/ricagj/pysekiro_with_RL/blob/main/pysekiro/direct_keys.py)"
   ]
  },
  {
   "cell_type": "markdown",
   "metadata": {},
   "source": [
    "某个大佬写的代码，反正从应用的角度看就好了。"
   ]
  },
  {
   "cell_type": "markdown",
   "metadata": {},
   "source": [
    "PressKey 压键  \n",
    "ReleaseKey 松键  "
   ]
  },
  {
   "cell_type": "markdown",
   "metadata": {},
   "source": [
    "具体用法看 actions.py"
   ]
  },
  {
   "cell_type": "markdown",
   "metadata": {},
   "source": [
    "### actions.py"
   ]
  },
  {
   "cell_type": "markdown",
   "metadata": {},
   "source": [
    "[查看代码](https://github.com/ricagj/pysekiro_with_RL/blob/main/pysekiro/actions.py)"
   ]
  },
  {
   "cell_type": "markdown",
   "metadata": {},
   "source": [
    "输出按键的部分，用的是 direct keys "
   ]
  },
  {
   "cell_type": "markdown",
   "metadata": {},
   "source": [
    "和 get_keys.py 不同的是，这里不用字典处理，而是采用直接赋值的方式。  \n",
    "因为从 direct_keys.py 导入的 PressKey() 和 ReleaseKey() 参数都是 hexKeyCode ，直接输入相应的 十六进制 映射到按键就好了。  \n",
    "赋值给相应的变量只是为了好认而已。"
   ]
  },
  {
   "cell_type": "code",
   "execution_count": null,
   "metadata": {},
   "outputs": [],
   "source": [
    "# e.g.\n",
    "from pysekiro.direct_keys import PressKey, ReleaseKey\n",
    "import time\n",
    "\n",
    "W = 0x11\n",
    "def Move_Forward():\n",
    "    print('移动 前')\n",
    "    PressKey(W)\n",
    "    time.sleep(1)\n",
    "    ReleaseKey(W)\n",
    "\n",
    "for _ in range(5):\n",
    "    Move_Forward()"
   ]
  },
  {
   "cell_type": "markdown",
   "metadata": {},
   "source": [
    "调用其中的某个函数时，游戏中的人物就会做出相应的动作"
   ]
  },
  {
   "cell_type": "markdown",
   "metadata": {},
   "source": [
    "act() 等之后用的时候再讲"
   ]
  },
  {
   "cell_type": "markdown",
   "metadata": {},
   "source": [
    "## 图像部分\n",
    "- grab_screen.py (屏幕图像抓取)\n",
    "- get_vertices.py (顶点位置获取)\n",
    "- get_status.py (状态获取)"
   ]
  },
  {
   "cell_type": "markdown",
   "metadata": {},
   "source": [
    "### grab_screen.py"
   ]
  },
  {
   "cell_type": "markdown",
   "metadata": {},
   "source": [
    "[查看代码](https://github.com/ricagj/pysekiro_with_RL/blob/main/pysekiro/grab_screen.py)"
   ]
  },
  {
   "cell_type": "markdown",
   "metadata": {},
   "source": [
    "这也是某个大佬写的，我把输出的图像改成了灰度图 cv2.cvtColor(img, cv2.COLOR_BGRA2GRAY) ，然后又补充了适应这个游戏的预处理而已。  \n",
    "我指定的区域，正是在显示器左上角一个 1280 x 720 的位置，其中还包括上半部分 30 像素的边框。  \n",
    "运行一下下面的程序就知道了。"
   ]
  },
  {
   "cell_type": "code",
   "execution_count": 5,
   "metadata": {},
   "outputs": [
    {
     "name": "stdout",
     "output_type": "stream",
     "text": [
      "图像 [[ 24  24  57 ...  23  23  23]\n",
      " [ 59  59  59 ...  59  59  59]\n",
      " [ 59  59  59 ...  43  43  43]\n",
      " ...\n",
      " [238 238 238 ... 255 255 255]\n",
      " [238 238 238 ... 255 255 255]\n",
      " [238 238 238 ... 255 255 255]] (270, 480) uint8\n"
     ]
    }
   ],
   "source": [
    "import cv2\n",
    "from pysekiro.grab_screen import get_screen\n",
    "\n",
    "screen = get_screen()\n",
    "cv2.imshow('screen', screen)\n",
    "cv2.waitKey(0)\n",
    "\n",
    "print('图像', screen, screen.shape, screen.dtype)"
   ]
  },
  {
   "cell_type": "markdown",
   "metadata": {},
   "source": [
    "实际上，数据集中单个数据里的图像部分就是由这个函数获取的。"
   ]
  },
  {
   "cell_type": "markdown",
   "metadata": {},
   "source": [
    "### get_vertices.py"
   ]
  },
  {
   "cell_type": "markdown",
   "metadata": {},
   "source": [
    "[查看代码](https://github.com/ricagj/pysekiro_with_RL/blob/main/pysekiro/get_vertices.py)"
   ]
  },
  {
   "cell_type": "markdown",
   "metadata": {},
   "source": [
    "其实就是我无法写出一个自动把血条、架势条抠出来的程序，所以才写的这个半自动的程序。  \n",
    "这个程序的主要作用就是，在图像上点击然后自动返回相关的位置信息。  \n",
    "可以看一下演示的gif  \n",
    "![demo.gif](https://github.com/ricagj/pysekiro_with_RL/blob/main/imgs/demo.gif)"
   ]
  },
  {
   "cell_type": "markdown",
   "metadata": {},
   "source": [
    "如图所示，在弹出来的窗口中用鼠标左键按顺序依次点击左下，左上，右上，右下，然后按键盘上的“ESC”键，就会自动返回 x, x_w, y, y_h, vertices  \n",
    "**图像的原点在左上角**\n",
    "- x 代表 x轴的起始位置，也是图像的最左边\n",
    "- y 代表 y轴的起始位置，也是图像的最上边\n",
    "- x_w 代表 x轴的终止位置，也是图像的最右边\n",
    "- y_h 代表 y轴的终止位置，也是图像的最下边\n",
    "- vertices = [[x, y_h], [x, y], [x_w, y], [x_w, y_h]] (依次代表图像的左下角、左上角、右上角和右下角的位置。)"
   ]
  },
  {
   "cell_type": "markdown",
   "metadata": {},
   "source": [
    "#### 函数解释"
   ]
  },
  {
   "cell_type": "markdown",
   "metadata": {},
   "source": [
    "##### on_EVENT_LBUTTONDOWN(event, x, y, flags, param)"
   ]
  },
  {
   "cell_type": "markdown",
   "metadata": {},
   "source": [
    "vertices 正是由下面这些代码获取的\n",
    "~~~python\n",
    "cv2.setMouseCallback(\"window\", on_EVENT_LBUTTONDOWN)\n",
    "while True:\n",
    "    cv2.imshow(\"window\", img)\n",
    "    if cv2.waitKey(0)&0xFF==27:\n",
    "        break\n",
    "~~~\n",
    "具体用法看下面"
   ]
  },
  {
   "cell_type": "markdown",
   "metadata": {},
   "source": [
    "##### GrabCut_ROI(img, vertices)"
   ]
  },
  {
   "cell_type": "markdown",
   "metadata": {},
   "source": [
    "其实就是展示抠图的效果的，看上面的 demo 就知道了，区域内保留，区域外全黑（像素点的值等于0）。"
   ]
  },
  {
   "cell_type": "markdown",
   "metadata": {},
   "source": [
    "##### standardize(vertices)"
   ]
  },
  {
   "cell_type": "markdown",
   "metadata": {},
   "source": [
    "鼠标点击出来的位置只是大概的，再怎么精细也只是类似矩形，而不是矩形，所以靠这个函数处理成最标准的矩形。  \n",
    "标准：尽量取最大范围"
   ]
  },
  {
   "cell_type": "markdown",
   "metadata": {},
   "source": [
    "##### roi(img, x, x_w, y, y_h)"
   ]
  },
  {
   "cell_type": "markdown",
   "metadata": {},
   "source": [
    "只保留区域内，区域外的全部不要"
   ]
  },
  {
   "cell_type": "markdown",
   "metadata": {},
   "source": [
    "##### get_vertices(img)"
   ]
  },
  {
   "cell_type": "markdown",
   "metadata": {},
   "source": [
    "直接上代码解释"
   ]
  },
  {
   "cell_type": "markdown",
   "metadata": {},
   "source": [
    "~~~python\n",
    "def get_vertices(img):\n",
    "    \n",
    "    global vertices\n",
    "    vertices = []\n",
    "\n",
    "    print('Press \"ESC\" to quit. ') # 按ESC键离开。\n",
    "    cv2.namedWindow(\"window\", cv2.WINDOW_NORMAL)    # 使窗口可以调整，比如图片太小，就调整窗口\n",
    "    cv2.setMouseCallback(\"window\", on_EVENT_LBUTTONDOWN)\n",
    "    while True:\n",
    "        cv2.imshow(\"window\", img)\n",
    "        if cv2.waitKey(0)&0xFF==27:\n",
    "            break\n",
    "    cv2.destroyAllWindows()\n",
    "\n",
    "    if len(vertices) != 4:    # 矩形嘛，4个点不是正常的吗\n",
    "        print(\"vertices number not match\")\n",
    "        return -1\n",
    "\n",
    "    x, x_w, y, y_h, vertices = standardize(vertices)    # 矩形化\n",
    "\n",
    "    cv2.imshow('img', img)\n",
    "    cv2.imshow('GrabCut_ROI(img)', GrabCut_ROI(img, [np.array(vertices)]))    # GrabCut_ROI 效果\n",
    "    cv2.imshow('roi(img)', roi(img, x, x_w, y, y_h))    # roi 效果\n",
    "\n",
    "    cv2.waitKey(0)\n",
    "    cv2.destroyAllWindows()\n",
    "\n",
    "    print(f'\\n x={x}, x_w={x_w}, y={y}, y_h={y_h}, vertices={vertices} \\n')\n",
    "~~~"
   ]
  },
  {
   "cell_type": "markdown",
   "metadata": {},
   "source": [
    "#### 实战"
   ]
  },
  {
   "cell_type": "code",
   "execution_count": 6,
   "metadata": {},
   "outputs": [
    {
     "name": "stdout",
     "output_type": "stream",
     "text": [
      "Press \"ESC\" to quit. \n",
      "\n",
      " x=68, x_w=499, y=677, y_h=696, vertices=[[68, 696], [68, 677], [499, 677], [499, 696]] \n",
      "\n"
     ]
    }
   ],
   "source": [
    "import cv2\n",
    "from pysekiro.get_vertices import get_vertices\n",
    "\n",
    "img = cv2.imread(\".\\imgs\\demo.png\", 0)\n",
    "get_vertices(img)"
   ]
  },
  {
   "cell_type": "markdown",
   "metadata": {},
   "source": [
    "其实最后需要用的只有 x, x_w, y, y_h"
   ]
  },
  {
   "cell_type": "markdown",
   "metadata": {},
   "source": [
    "### get_status.py 注：仍需优化"
   ]
  },
  {
   "cell_type": "markdown",
   "metadata": {},
   "source": [
    "[查看代码](https://github.com/ricagj/pysekiro_with_RL/blob/main/pysekiro/get_status.py)"
   ]
  },
  {
   "cell_type": "markdown",
   "metadata": {},
   "source": [
    "#### 实战"
   ]
  },
  {
   "cell_type": "code",
   "execution_count": 7,
   "metadata": {},
   "outputs": [
    {
     "name": "stdout",
     "output_type": "stream",
     "text": [
      " Remaining: 0     , Sekiro_HP:  117, Sekiro_Posture:   24, Boss_HP:  64, Boss_Posture:   58"
     ]
    }
   ],
   "source": [
    "import os\n",
    "import cv2\n",
    "import numpy as np\n",
    "from pysekiro.get_status import get_status\n",
    "\n",
    "boss = 'Genichiro_Ashina' # 苇名弦一郎\n",
    "path = os.path.join('The_battle_memory', boss, f'training_data-{1}.npy')\n",
    "data = np.load(path, allow_pickle=True)\n",
    "\n",
    "Remaining = len(data)\n",
    "\n",
    "for screen in data[:,0]:\n",
    "\n",
    "    cv2.imshow('screen', screen)\n",
    "\n",
    "    Sekiro_HP, Sekiro_Posture, Boss_HP, Boss_Posture = get_status(screen)\n",
    "\n",
    "    Remaining -= 1\n",
    "    print(f'\\r Remaining: {Remaining:<6}, Sekiro_HP: {Sekiro_HP:>4}, Sekiro_Posture: {Sekiro_Posture:>4}, Boss_HP:{Boss_HP:>4}, Boss_Posture: {Boss_Posture:>4}', end='')\n",
    "    cv2.waitKey(1)\n",
    "    if cv2.waitKey(1) & 0xFF == ord('q'):    # 按 q 键关闭视频\n",
    "        cv2.destroyAllWindows()\n",
    "        break\n",
    "else:\n",
    "    cv2.destroyAllWindows()"
   ]
  },
  {
   "cell_type": "markdown",
   "metadata": {},
   "source": [
    "#### 解释"
   ]
  },
  {
   "cell_type": "markdown",
   "metadata": {},
   "source": [
    "其实和最上面那个 以视频的形式展示数据 类似，只不过内容换成了检测状态"
   ]
  },
  {
   "cell_type": "markdown",
   "metadata": {},
   "source": [
    "关键部分\n",
    "~~~python\n",
    "Sekiro_HP, Sekiro_Posture, Boss_HP, Boss_Posture = get_status(screen)\n",
    "~~~\n",
    "\n",
    "get_status 函数原型\n",
    "~~~python\n",
    "def get_status(img):\n",
    "    return [get_Sekiro_HP(img), get_Sekiro_Posture(img), get_Boss_HP(img), get_Boss_Posture(img)]\n",
    "~~~"
   ]
  },
  {
   "cell_type": "markdown",
   "metadata": {},
   "source": [
    "里面四个函数的原型\n",
    "~~~python\n",
    "def get_Sekiro_HP(img):\n",
    "    img_roi = roi(img, x=29, x_w=182, y=244, y_h=246)[0]    # 我方血条的区域，通过 get_vertices.py 中的 get_vertices(img) 获取\n",
    "    Sekiro_HP = get_HP(img_roi)    # 转换为数值，通过 get_HP(target_img)\n",
    "    return Sekiro_HP\n",
    "~~~\n",
    "~~~python\n",
    "def get_Sekiro_Posture(img):\n",
    "    img_roi = roi(img, x=241, x_w=290, y=233, y_h=235)[0]    # 我方架势条的区域，通过 get_vertices.py 中的 get_vertices(img) 获取\n",
    "    Sekiro_Posture = get_Posture(img_roi)    # 转换为数值，通过 get_Posture(target_img)\n",
    "    return Sekiro_Posture\n",
    "~~~\n",
    "~~~python\n",
    "def get_Boss_HP(img):\n",
    "    img_roi = roi(img, x=29, x_w=129, y=24, y_h=26)[0]    # 敌方血条的区域，通过 get_vertices.py 中的 get_vertices(img) 获取\n",
    "    Boss_HP = get_HP(img_roi)    # 转换为数值，通过 get_HP(target_img)\n",
    "    return Boss_HP\n",
    "~~~\n",
    "~~~python\n",
    "def get_Boss_Posture(img):\n",
    "    img_roi = roi(img, x=241, x_w=326, y=16, y_h=18)[0]    # 敌方架势条的区域，通过 get_vertices.py 中的 get_vertices(img) 获取\n",
    "    Boss_Posture = get_Posture(img_roi)    # 转换为数值，通过 get_Posture(target_img)\n",
    "    return Boss_Posture\n",
    "~~~\n",
    "\n",
    "可以看出四个函数的结构是相同的，只不过是计算的区域不同而已，  \n",
    "然后，img_roi 只取第一行的数据，是因为每行的数据都是差不多的，误差不会很大，所以只需要取其中的一行的结果就可以了，  \n",
    "当然，只是目前采取这种做法而已，以后说不定为了提高抗干扰性而使用更多行数据。"
   ]
  },
  {
   "cell_type": "markdown",
   "metadata": {},
   "source": [
    "获取数值的部分\n",
    "~~~python\n",
    "def get_HP(target_img):\n",
    "    count = 0\n",
    "    \n",
    "    if target_img[0] == 0 or target_img[1] == 0:\n",
    "        return count\n",
    "    \n",
    "    for i in range(len(target_img)-1):\n",
    "        cur_pixel = int(target_img[i])\n",
    "        next_pixel = int(target_img[i+1])\n",
    "        if abs(cur_pixel - next_pixel) > 20 or cur_pixel < 40 or cur_pixel > 80:\n",
    "            break\n",
    "        count += 1\n",
    "    return count\n",
    "~~~\n",
    "~~~python\n",
    "def get_Posture(target_img):\n",
    "    count = 0\n",
    "    \n",
    "    if target_img[0] == 0 or target_img[1] == 0:\n",
    "        return count\n",
    "    \n",
    "    for i in range(len(target_img)-1):\n",
    "        cur_pixel = int(target_img[i])\n",
    "        next_pixel = int(target_img[i+1])\n",
    "        if abs(cur_pixel - next_pixel) > 20 or cur_pixel < 100:\n",
    "            break\n",
    "        count += 1\n",
    "    return count\n",
    "~~~\n",
    "这两个也是基本相同的，不同的是，停止的条件  \n",
    "- abs(cur_pixel - next_pixel) > 20 or cur_pixel < 40 or cur_pixel > 80\n",
    "- abs(cur_pixel - next_pixel) > 20 or cur_pixel < 100\n",
    "*这两个只是目前这样设置的，以后会更改*  "
   ]
  },
  {
   "cell_type": "markdown",
   "metadata": {},
   "source": [
    "运行下面的代码"
   ]
  },
  {
   "cell_type": "code",
   "execution_count": null,
   "metadata": {},
   "outputs": [],
   "source": [
    "import cv2\n",
    "from pysekiro.get_vertices import roi\n",
    "img = cv2.imread(\".\\imgs\\demo.png\", 0)\n",
    "cv2.imshow('img', roi(img, x=70, x_w=355, y=85, y_h=106))\n",
    "cv2.waitKey(0)"
   ]
  },
  {
   "cell_type": "markdown",
   "metadata": {},
   "source": [
    "上面的代码给我们展示的是截取的生命栏的图像，或者看下面的图片也可以  \n",
    "![demo.png](https://github.com/ricagj/pysekiro_with_RL/blob/main/imgs/demo.png)  \n",
    "仔细观察，可以发现它由五部分组成：\n",
    "- 生命栏开始的位置是一条白线\n",
    "- 红色的现有生命值（灰度图看不出来）\n",
    "- 现有的生命与已失去的生命之间是一条白线\n",
    "- 灰色的已失去的生命值\n",
    "- 生命栏结束的位置是一条白线"
   ]
  },
  {
   "cell_type": "markdown",
   "metadata": {},
   "source": [
    "接下来看下面的代码运行的结果"
   ]
  },
  {
   "cell_type": "code",
   "execution_count": 8,
   "metadata": {},
   "outputs": [
    {
     "name": "stdout",
     "output_type": "stream",
     "text": [
      "[57 59 52 56 56 54 58 50 51 57 52 56 58 54 48 55 54 55 50 58 55 53 53 60\n",
      " 49 53 58 59 51 56 50 60 52 56 60 49 58 53 55 54 49 52 51 49 49 55 49 57\n",
      " 56 58 49 49 56 52 56 47 56 49 53 57 53 54 53 52 47 57 53 54 55 88 51 44\n",
      " 43 40 43 45 30 46 46 37 39 40 38 39 41 37 41 44 38 34 35 42 44 48 41 35\n",
      " 30 33 41 37]\n",
      "Boss_HP:   68\n",
      "\n",
      "\n",
      "[57 59 52 56 56 54 58 50 51 57 52 56 58 54 48 55 54 55 50 58 55 53 53 60\n",
      " 49 53 58 59 51 56 50 60 52 56 60 49 58 53 55 54 49 52 51 49 48 55 49 57\n",
      " 56 58 49 49 56 52 56 47 56 49 53 57 53 54 53 52 47 57 53 54 55 88 51 44\n",
      " 43 40 43 45 30 46 46 37 39 40 38 39 41 37 41 44 38 34 35 42 44 48 41 34\n",
      " 30 34 41 37]\n",
      "Boss_HP:   68\n",
      "\n",
      "\n",
      "[ 57  59  52  56  56  54  58  50  51  57  52  56  58  54  48  55  54  55\n",
      "  50  58  55  53  53  60  49  53  58  59  51  56  50  60  52  56  60  49\n",
      "  58  53  55  54  49  52  51  49  48  55  49  57  56  58  49  49  56  52\n",
      "  56  47  56  49  53  57  53  54  53  52  47  57  53  74 114 101  38  44\n",
      "  43  40  43  45  30  46  46  37  39  40  38  38  41  37  41  44  38  34\n",
      "  35  42  44  48  41  34  30  33  41  37]\n",
      "Boss_HP:   66\n",
      "\n",
      "\n",
      "[ 57  59  52  56  56  54  58  50  51  57  52  56  58  54  48  55  54  55\n",
      "  50  58  55  53  53  60  49  53  58  59  51  56  50  60  52  56  60  49\n",
      "  58  53  55  54  49  52  51  49  48  55  49  57  56  58  49  49  56  52\n",
      "  56  47  56  49  53  57  53  54  53  52  47  57  53  74 114 101  38  44\n",
      "  43  40  43  45  30  46  46  37  39  40  38  38  41  37  41  44  38  34\n",
      "  35  42  44  48  41  34  30  33  41  37]\n",
      "Boss_HP:   66\n",
      "\n",
      "\n",
      "[ 57  59  52  56  56  54  58  50  51  57  52  56  58  54  48  55  54  55\n",
      "  50  58  55  53  53  60  49  53  58  59  51  56  50  60  52  56  60  49\n",
      "  58  53  55  54  49  52  51  49  48  55  49  57  56  58  49  49  56  52\n",
      "  56  47  56  49  53  57  53  54  53  52  47  57  53  74 114 101  38  44\n",
      "  43  40  43  45  30  46  46  37  39  40  38  38  41  37  41  44  38  34\n",
      "  35  42  44  48  41  34  30  33  41  37]\n",
      "Boss_HP:   66\n",
      "\n",
      "\n"
     ]
    }
   ],
   "source": [
    "import os\n",
    "import numpy as np\n",
    "from pysekiro.get_vertices import roi\n",
    "from pysekiro.get_status import get_HP\n",
    "\n",
    "def get_Boss_HP(img):\n",
    "    img_roi = roi(img, x=29, x_w=129, y=24, y_h=26)[0]\n",
    "    Boss_HP = get_HP(img_roi)\n",
    "    print(img_roi)\n",
    "    return Boss_HP\n",
    "\n",
    "boss = 'Genichiro_Ashina' # 苇名弦一郎\n",
    "path = os.path.join('The_battle_memory', boss, f'training_data-{1}.npy')\n",
    "data = np.load(path, allow_pickle=True)\n",
    "\n",
    "for screen in data[88:93,0]:\n",
    "\n",
    "    Boss_HP = get_Boss_HP(screen)\n",
    "\n",
    "    print(f'Boss_HP: {Boss_HP:>4}', end='\\n\\n\\n')"
   ]
  },
  {
   "cell_type": "markdown",
   "metadata": {},
   "source": [
    "**注：我目前截取的生命栏不包括开始和结束**  \n",
    "不包括开始和结束的话，截取的生命栏只由三部分组成，现有生命值、间隔和已失去的生命值。  \n",
    "左边的颜色比较浅，中间的间隔部分颜色最浅，然后右边的颜色偏深。  \n",
    "所以左边的像素点数值的范围大概在 40 ~ 60 之间，遇到中间的间隔后，间隔处的像素点数值迅速增大到80以上，然后再迅速减小到40以下。  \n",
    "迅速变化的范围大于20，所以当**下一个像素点的数值**和**当前像素点的数值**的差值大于 20 ，或者像素值大于 80 (间隔的位置)，又或者像素值小于 40 (已失去的生命值的位置)时停止。\n",
    "~~~python\n",
    "if abs(cur_pixel - next_pixel) > 20 or cur_pixel < 40 or cur_pixel > 80:\n",
    "    break\n",
    "~~~\n",
    "然后算法的原理很简单，就是用count计数，然后遍历这个numpy数组，遇到符合条件的 count+=1 ，直到遇到结束条件，就这样，得到的count的值就是最后我们需要的数值。"
   ]
  },
  {
   "cell_type": "markdown",
   "metadata": {},
   "source": [
    "## 收集数据部分（深度学习必备，强化学习可选）"
   ]
  },
  {
   "cell_type": "markdown",
   "metadata": {},
   "source": [
    "### collect_data.py"
   ]
  },
  {
   "cell_type": "markdown",
   "metadata": {},
   "source": [
    "整个代码的核心也就下面这些\n",
    "~~~python\n",
    "screen = get_screen()    # 屏幕图像获取\n",
    "keys = key_check()       # 按键检测\n",
    "output, action = keys_to_output(keys)     # 按键转化为对应的输出\n",
    "training_data.append([screen, output])    # 把图像和按键打包在一个列表内，再添加进 training_data\n",
    "np.save(save_path, training_data)    # 收集到一定程度就保存\n",
    "~~~"
   ]
  },
  {
   "cell_type": "markdown",
   "metadata": {},
   "source": [
    "#### 主要代码"
   ]
  },
  {
   "cell_type": "markdown",
   "metadata": {},
   "source": [
    "~~~python\n",
    "def collect_data(boss):\n",
    "    \n",
    "    # 保存数据的容器\n",
    "    training_data = []\n",
    "    \n",
    "    # 建立临时保存数据的文件夹\n",
    "    path_1 = 'tmp_data'\n",
    "    if path_1 not in os.listdir():\n",
    "        os.mkdir(path_1)\n",
    "    \n",
    "    # 初始化保存路径\n",
    "    starting_value = 1\n",
    "    save_path = os.path.join(path_1, f'training_data-{starting_value}.npy')\n",
    "    \n",
    "    print('Ready!')\n",
    "\n",
    "    paused = True    # 初始状态是暂停，等准备好了按 T 就直接开始了\n",
    "    while True:\n",
    "        \n",
    "        if not paused:\n",
    "            last_time = time.time()\n",
    "            \n",
    "            screen = get_screen()    # 屏幕图像获取\n",
    "            keys = key_check()    # 按键检测\n",
    "            output, action = keys_to_output(keys)     # 按键转化为对应的输出\n",
    "            \n",
    "            # 数据整合（打包图像和按键输出）\n",
    "            training_data.append([screen, output])\n",
    "            \n",
    "            # 临时保存数据\n",
    "            if len(training_data) == 100:    # 每收集100个数据就保存到临时目录\n",
    "                np.save(save_path, training_data)\n",
    "                training_data = []    # 重置保存的容器\n",
    "                starting_value += 1\n",
    "                save_path = os.path.join(path_1, f'training_data-{starting_value}.npy')    # 更新保存的路径\n",
    "            \n",
    "            # 展示这一轮所耗时间，当前按下的键所代表的动作，当前被检测到的按键的列表\n",
    "            battle_log = f'\\rloop took {round(time.time()-last_time, 3):>5} seconds. action {action:<11}. keys {str(keys):<60}'\n",
    "            print(battle_log, end='')\n",
    "        \n",
    "        # 再次检测按键\n",
    "        keys = key_check()\n",
    "        if 'P' in keys:      # 按 ‘P’ 结束并保存\n",
    "            np.save(save_path, training_data)\n",
    "            break\n",
    "        elif 'T' in keys:    # 按 ‘T’ 暂停或继续\n",
    "            if paused:\n",
    "                paused = False\n",
    "                print('\\nStarting!')\n",
    "                time.sleep(1)\n",
    "            else:\n",
    "                paused = True\n",
    "                print('\\nPausing!')\n",
    "                time.sleep(1)\n",
    "    \n",
    "    print('\\n\\nStop, please wait')\n",
    "    \n",
    "    merge_data(boss)    # 合并临时数据\n",
    "\n",
    "    print('Done!')\n",
    "~~~"
   ]
  },
  {
   "cell_type": "markdown",
   "metadata": {},
   "source": [
    "#### 次要代码 1"
   ]
  },
  {
   "cell_type": "code",
   "execution_count": null,
   "metadata": {},
   "outputs": [],
   "source": [
    "# 代码比较简单，运行看一下结果就好了，注意，只有 get_keys.py 内定义了的才能检测得到\n",
    "# 目前可以检测的是 ['W', 'S', 'A', 'D', 'J', 'K', 'SPACE', 'LSHIFT', 'T', 'P']\n",
    "# 但是下面的程序只定义了 'J', 'K', 'LSHIFT', 'SPACE', 所以只会显示那些\n",
    "from pysekiro.get_keys import key_check\n",
    "\n",
    "# 手动独热编码，以后方便控制\n",
    "j  = [1,0,0,0,0] # 攻击 | Attack\n",
    "k  = [0,1,0,0,0] # 弹反 | Deflect\n",
    "ls = [0,0,1,0,0] # 垫步 | Step Dodge\n",
    "sp = [0,0,0,1,0] # 跳跃 | Jump\n",
    "ot = [0,0,0,0,1] # 其他 | Other\n",
    "\n",
    "def keys_to_output(keys):\n",
    "\n",
    "    if   'J' in keys:\n",
    "        output = j\n",
    "        action = 'Attack'     # 攻击\n",
    "    elif 'K' in keys:\n",
    "        output = k\n",
    "        action = 'Deflect'    # 弹反\n",
    "    elif 'LSHIFT' in keys:\n",
    "        output = ls\n",
    "        action = 'Step Dodge' # 垫步\n",
    "    elif 'SPACE' in keys:\n",
    "        output = sp\n",
    "        action = 'Jump'       # 跳跃\n",
    "    else:\n",
    "        output = ot\n",
    "        action = 'O'      # 其他\n",
    "    return output, action\n",
    "\n",
    "while True:\n",
    "    keys = key_check()\n",
    "    output, action = keys_to_output(keys)\n",
    "    print(f'\\r 输出：{str(output)}，动作：{action:<10}', end = '')\n",
    "    \n",
    "    if 'P' in keys:    # 停止条件：按下 P 键\n",
    "        print('结束')\n",
    "        break"
   ]
  },
  {
   "cell_type": "markdown",
   "metadata": {},
   "source": [
    "#### 次要代码 2 （这部分完全可以不看，就是保存数据集而已）"
   ]
  },
  {
   "cell_type": "markdown",
   "metadata": {},
   "source": [
    "find_max_num() 和 merge_data() 是保存数据时用的代码  \n",
    "临时数据都保存在 tmp_data 下，合并之后的数据保存在 The_battle_memory 相应的boss名称的文件夹内，文件名都是 training_data-**数字**.npy 的格式\n",
    "用 find_max_num() 找到 tmp_data 内 .npy 文件的最大**数量**，作为遍历结束的条件（tmp_data 内的文件是按顺序的，所以最大数字也代表最大数量）  \n",
    "用 find_max_num() 找到 The_battle_memory 相应的boss名称的文件夹内 .npy 文件的最大**数字**，取其下一位，能避免文件名重复的情况（数据命名原本是连续的，当偶尔会删掉中间几个质量很差的数据集，就造成了保存的时候文件名不连续的情况，这时候最大数值不能代表最大数量）  \n",
    "- e.g.\n",
    "    - training_data-3.npy, training_data-13.npy, training_data-101.npy\n",
    "    - find_max_num()结果是 101"
   ]
  },
  {
   "cell_type": "markdown",
   "metadata": {},
   "source": [
    "指定一个路径，找到 .npy 后缀的文件中最大的数字  \n",
    "比如 tmp_data 文件夹下有 training_data-1.npy ~ training_data-22.npy ，那么输出就是 22\n",
    "~~~python\n",
    "def find_max_num(path):\n",
    "    filenames = os.listdir(path)\n",
    "    if 'training_data-1.npy' in filenames:\n",
    "        max_num = max([int(x[14:-4]) for x in filenames if '.npy' in x])\n",
    "    else:\n",
    "        max_num = 0\n",
    "    return max_num\n",
    "~~~"
   ]
  },
  {
   "cell_type": "markdown",
   "metadata": {},
   "source": [
    "~~~python\n",
    "def merge_data(boss):\n",
    "    path_1 = 'tmp_data'\n",
    "    max_num_1 = find_max_num(path_1)    # 找到 tmp_data 文件夹下有 .npy 后缀的文件夹最大的数字\n",
    "    if max_num_1 <= 1:    # 如果小于等于1 那说明数据太少，不被允许保存，删除文件后强制退出\n",
    "        print('There is no data to merge.')\n",
    "        shutil.rmtree(path_1)\n",
    "        return -1\n",
    "    \n",
    "    npy_file = os.path.join(path_1, 'training_data-1.npy')\n",
    "    data = np.load(npy_file, allow_pickle=True)    # 读取第一个数据集\n",
    "    \n",
    "    for i in range(2, max_num_1 + 1):    # 准备遍历剩下的数据集\n",
    "        npy_file = os.path.join(path_1, f'training_data-{i}.npy')\n",
    "        next_data = np.load(npy_file, allow_pickle=True)    # 读取下一个数据集\n",
    "        \n",
    "        data = np.append(data, next_data, axis=0)    # 把这个数据添加到 data 内，实现合并数据集\n",
    "    \n",
    "    path_2 = os.path.join('The_battle_memory', boss)\n",
    "    max_num_2 = find_max_num(path_2)\n",
    "    np.save(os.path.join(path_2, f'training_data-{max_num_2+1}.npy'), data)    # 保存到相应的位置\n",
    "    \n",
    "    shutil.rmtree(path_1)    # 数据已经合并完毕并转移，删除临时文件夹 tmp_data 以及里面的内容\n",
    "~~~"
   ]
  },
  {
   "cell_type": "markdown",
   "metadata": {},
   "source": [
    "#### 实战"
   ]
  },
  {
   "cell_type": "markdown",
   "metadata": {},
   "source": [
    "当提示 Ready! 时，第一次按 T 开始搜集数据，之后按 T 切换暂停和继续的状态，按 P 结束"
   ]
  },
  {
   "cell_type": "code",
   "execution_count": null,
   "metadata": {},
   "outputs": [],
   "source": [
    "from pysekiro.collect_data import collect_data\n",
    "boss = 'Genichiro_Ashina' # 苇名弦一郎\n",
    "collect_data(boss)"
   ]
  },
  {
   "cell_type": "markdown",
   "metadata": {},
   "source": [
    "# 待更新"
   ]
  }
 ],
 "metadata": {
  "kernelspec": {
   "display_name": "Python 3",
   "language": "python",
   "name": "python3"
  },
  "language_info": {
   "codemirror_mode": {
    "name": "ipython",
    "version": 3
   },
   "file_extension": ".py",
   "mimetype": "text/x-python",
   "name": "python",
   "nbconvert_exporter": "python",
   "pygments_lexer": "ipython3",
   "version": "3.8.5"
  },
  "toc-autonumbering": true,
  "toc-showtags": false
 },
 "nbformat": 4,
 "nbformat_minor": 4
}
